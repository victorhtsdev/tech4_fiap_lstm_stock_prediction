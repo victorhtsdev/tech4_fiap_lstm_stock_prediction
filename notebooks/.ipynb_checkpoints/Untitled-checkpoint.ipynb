{
 "cells": [
  {
   "cell_type": "code",
   "execution_count": 1,
   "id": "134eadc2-7d25-4b46-acde-c92d3f2ace52",
   "metadata": {},
   "outputs": [
    {
     "name": "stderr",
     "output_type": "stream",
     "text": [
      "C:\\Users\\Victor\\.conda\\envs\\tech4\\Lib\\site-packages\\requests\\__init__.py:86: RequestsDependencyWarning: Unable to find acceptable character detection dependency (chardet or charset_normalizer).\n",
      "  warnings.warn(\n"
     ]
    },
    {
     "name": "stdout",
     "output_type": "stream",
     "text": [
      "YF.download() has changed argument auto_adjust default to True\n"
     ]
    },
    {
     "name": "stderr",
     "output_type": "stream",
     "text": [
      "[*********************100%***********************]  1 of 1 completed\n"
     ]
    },
    {
     "data": {
      "text/html": [
       "<div>\n",
       "<style scoped>\n",
       "    .dataframe tbody tr th:only-of-type {\n",
       "        vertical-align: middle;\n",
       "    }\n",
       "\n",
       "    .dataframe tbody tr th {\n",
       "        vertical-align: top;\n",
       "    }\n",
       "\n",
       "    .dataframe thead tr th {\n",
       "        text-align: left;\n",
       "    }\n",
       "\n",
       "    .dataframe thead tr:last-of-type th {\n",
       "        text-align: right;\n",
       "    }\n",
       "</style>\n",
       "<table border=\"1\" class=\"dataframe\">\n",
       "  <thead>\n",
       "    <tr>\n",
       "      <th>Price</th>\n",
       "      <th>Close</th>\n",
       "      <th>High</th>\n",
       "      <th>Low</th>\n",
       "      <th>Open</th>\n",
       "      <th>Volume</th>\n",
       "    </tr>\n",
       "    <tr>\n",
       "      <th>Ticker</th>\n",
       "      <th>PETR4.SA</th>\n",
       "      <th>PETR4.SA</th>\n",
       "      <th>PETR4.SA</th>\n",
       "      <th>PETR4.SA</th>\n",
       "      <th>PETR4.SA</th>\n",
       "    </tr>\n",
       "    <tr>\n",
       "      <th>Date</th>\n",
       "      <th></th>\n",
       "      <th></th>\n",
       "      <th></th>\n",
       "      <th></th>\n",
       "      <th></th>\n",
       "    </tr>\n",
       "  </thead>\n",
       "  <tbody>\n",
       "    <tr>\n",
       "      <th>2000-01-03</th>\n",
       "      <td>1.267102</td>\n",
       "      <td>1.267102</td>\n",
       "      <td>1.267102</td>\n",
       "      <td>1.267102</td>\n",
       "      <td>35389440000</td>\n",
       "    </tr>\n",
       "    <tr>\n",
       "      <th>2000-01-04</th>\n",
       "      <td>1.197008</td>\n",
       "      <td>1.197008</td>\n",
       "      <td>1.197008</td>\n",
       "      <td>1.197008</td>\n",
       "      <td>28861440000</td>\n",
       "    </tr>\n",
       "    <tr>\n",
       "      <th>2000-01-05</th>\n",
       "      <td>1.184929</td>\n",
       "      <td>1.184929</td>\n",
       "      <td>1.184929</td>\n",
       "      <td>1.184929</td>\n",
       "      <td>43033600000</td>\n",
       "    </tr>\n",
       "    <tr>\n",
       "      <th>2000-01-06</th>\n",
       "      <td>1.180831</td>\n",
       "      <td>1.180831</td>\n",
       "      <td>1.180831</td>\n",
       "      <td>1.180831</td>\n",
       "      <td>34055680000</td>\n",
       "    </tr>\n",
       "    <tr>\n",
       "      <th>2000-01-07</th>\n",
       "      <td>1.186224</td>\n",
       "      <td>1.186224</td>\n",
       "      <td>1.186224</td>\n",
       "      <td>1.186224</td>\n",
       "      <td>20912640000</td>\n",
       "    </tr>\n",
       "  </tbody>\n",
       "</table>\n",
       "</div>"
      ],
      "text/plain": [
       "Price          Close      High       Low      Open       Volume\n",
       "Ticker      PETR4.SA  PETR4.SA  PETR4.SA  PETR4.SA     PETR4.SA\n",
       "Date                                                           \n",
       "2000-01-03  1.267102  1.267102  1.267102  1.267102  35389440000\n",
       "2000-01-04  1.197008  1.197008  1.197008  1.197008  28861440000\n",
       "2000-01-05  1.184929  1.184929  1.184929  1.184929  43033600000\n",
       "2000-01-06  1.180831  1.180831  1.180831  1.180831  34055680000\n",
       "2000-01-07  1.186224  1.186224  1.186224  1.186224  20912640000"
      ]
     },
     "execution_count": 1,
     "metadata": {},
     "output_type": "execute_result"
    }
   ],
   "source": [
    "import yfinance as yf\n",
    "import pandas as pd\n",
    "\n",
    "# Define o símbolo da ação da Petrobras (mercado brasileiro)\n",
    "symbol = 'PETR4.SA'\n",
    "\n",
    "# Define o período histórico\n",
    "start_date = '1901-01-01'\n",
    "end_date = None  # usa o dia atual se None\n",
    "\n",
    "# Baixa os dados históricos\n",
    "df = yf.download(symbol, start=start_date, end=end_date)\n",
    "\n",
    "# Visualiza as primeiras linhas\n",
    "df.head()\n"
   ]
  },
  {
   "cell_type": "code",
   "execution_count": 2,
   "id": "c274280e-08e1-45aa-b866-53536f0a7262",
   "metadata": {},
   "outputs": [
    {
     "name": "stdout",
     "output_type": "stream",
     "text": [
      "🔍 Valores nulos por coluna:\n",
      "Price   Ticker  \n",
      "Close   PETR4.SA    0\n",
      "High    PETR4.SA    0\n",
      "Low     PETR4.SA    0\n",
      "Open    PETR4.SA    0\n",
      "Volume  PETR4.SA    0\n",
      "dtype: int64\n",
      "\n",
      "🔍 Valores iguais a zero por coluna:\n",
      "Price   Ticker  \n",
      "Close   PETR4.SA      0\n",
      "High    PETR4.SA      0\n",
      "Low     PETR4.SA      0\n",
      "Open    PETR4.SA      0\n",
      "Volume  PETR4.SA    146\n",
      "dtype: int64\n"
     ]
    }
   ],
   "source": [
    "cols = ['Close', 'High', 'Low', 'Open', 'Volume']\n",
    "\n",
    "# Verifica valores nulos\n",
    "print(\"🔍 Valores nulos por coluna:\")\n",
    "print(df[cols].isnull().sum())\n",
    "\n",
    "# Verifica valores iguais a zero\n",
    "print(\"\\n🔍 Valores iguais a zero por coluna:\")\n",
    "print((df[cols] == 0).sum())"
   ]
  },
  {
   "cell_type": "code",
   "execution_count": 3,
   "id": "b9ee8ead-0bd6-403f-badb-f7d5e572cbd6",
   "metadata": {},
   "outputs": [],
   "source": [
    "from sklearn.preprocessing import MinMaxScaler\n",
    "# ======== DADOS ========\n",
    "data = df[['Close', 'High', 'Low', 'Open']].dropna()\n",
    "scaler = MinMaxScaler()\n",
    "scaled_data = scaler.fit_transform(data)"
   ]
  },
  {
   "cell_type": "code",
   "execution_count": 5,
   "id": "5e55e926-3fbb-41aa-8e6b-bfdb9e30ad2a",
   "metadata": {},
   "outputs": [
    {
     "name": "stdout",
     "output_type": "stream",
     "text": [
      "Epoch 1/10\n",
      "\u001b[1m197/197\u001b[0m \u001b[32m━━━━━━━━━━━━━━━━━━━━\u001b[0m\u001b[37m\u001b[0m \u001b[1m6s\u001b[0m 18ms/step - loss: 0.0141\n",
      "Epoch 2/10\n",
      "\u001b[1m197/197\u001b[0m \u001b[32m━━━━━━━━━━━━━━━━━━━━\u001b[0m\u001b[37m\u001b[0m \u001b[1m4s\u001b[0m 18ms/step - loss: 1.9865e-04\n",
      "Epoch 3/10\n",
      "\u001b[1m197/197\u001b[0m \u001b[32m━━━━━━━━━━━━━━━━━━━━\u001b[0m\u001b[37m\u001b[0m \u001b[1m3s\u001b[0m 16ms/step - loss: 1.9251e-04\n",
      "Epoch 4/10\n",
      "\u001b[1m197/197\u001b[0m \u001b[32m━━━━━━━━━━━━━━━━━━━━\u001b[0m\u001b[37m\u001b[0m \u001b[1m3s\u001b[0m 13ms/step - loss: 1.5130e-04\n",
      "Epoch 5/10\n",
      "\u001b[1m197/197\u001b[0m \u001b[32m━━━━━━━━━━━━━━━━━━━━\u001b[0m\u001b[37m\u001b[0m \u001b[1m3s\u001b[0m 13ms/step - loss: 1.2998e-04\n",
      "Epoch 6/10\n",
      "\u001b[1m197/197\u001b[0m \u001b[32m━━━━━━━━━━━━━━━━━━━━\u001b[0m\u001b[37m\u001b[0m \u001b[1m3s\u001b[0m 15ms/step - loss: 1.2473e-04\n",
      "Epoch 7/10\n",
      "\u001b[1m197/197\u001b[0m \u001b[32m━━━━━━━━━━━━━━━━━━━━\u001b[0m\u001b[37m\u001b[0m \u001b[1m3s\u001b[0m 14ms/step - loss: 9.8545e-05\n",
      "Epoch 8/10\n",
      "\u001b[1m197/197\u001b[0m \u001b[32m━━━━━━━━━━━━━━━━━━━━\u001b[0m\u001b[37m\u001b[0m \u001b[1m3s\u001b[0m 13ms/step - loss: 1.1991e-04\n",
      "Epoch 9/10\n",
      "\u001b[1m197/197\u001b[0m \u001b[32m━━━━━━━━━━━━━━━━━━━━\u001b[0m\u001b[37m\u001b[0m \u001b[1m3s\u001b[0m 13ms/step - loss: 1.0679e-04\n",
      "Epoch 10/10\n",
      "\u001b[1m197/197\u001b[0m \u001b[32m━━━━━━━━━━━━━━━━━━━━\u001b[0m\u001b[37m\u001b[0m \u001b[1m3s\u001b[0m 13ms/step - loss: 1.0073e-04\n",
      "\n",
      "📊 Métricas de desempenho (todas as amostras):\n",
      "\n",
      "          MAE    RMSE  MAPE (%)      R²\n",
      "Close  0.0054  0.0090   6043.57  0.9981\n",
      "High   0.0062  0.0110   8262.80  0.9972\n",
      "Low    0.0051  0.0086   7534.44  0.9982\n",
      "Open   0.0042  0.0083   5112.62  0.9984\n"
     ]
    },
    {
     "data": {
      "image/png": "[encoded data removed]",
      "text/plain": [
       "<Figure size 800x400 with 1 Axes>"
      ]
     },
     "metadata": {},
     "output_type": "display_data"
    }
   ],
   "source": [
    "import numpy as np\n",
    "import pandas as pd\n",
    "import matplotlib.pyplot as plt\n",
    "from sklearn.metrics import mean_absolute_error, mean_squared_error, r2_score\n",
    "from tensorflow.keras.models import Sequential\n",
    "from tensorflow.keras.layers import Input, LSTM, Dense\n",
    "from tensorflow.keras.optimizers import Adam\n",
    "\n",
    "# ======== CONFIG ========\n",
    "window_size = 60\n",
    "epochs = 10\n",
    "batch_size = 32\n",
    "\n",
    "# ======== JANELA DE TEMPO ========\n",
    "X, y = [], []\n",
    "for i in range(window_size, len(scaled_data)):\n",
    "    X.append(scaled_data[i - window_size:i])\n",
    "    y.append(scaled_data[i])\n",
    "\n",
    "X = np.array(X)\n",
    "y = np.array(y)\n",
    "n_features = X.shape[2]\n",
    "\n",
    "# ======== TREINAMENTO ========\n",
    "model = Sequential()\n",
    "model.add(Input(shape=(window_size, n_features)))\n",
    "model.add(LSTM(50))\n",
    "model.add(Dense(4))\n",
    "model.compile(optimizer=Adam(), loss='mean_squared_error')\n",
    "\n",
    "history = model.fit(X, y, epochs=epochs, batch_size=batch_size, verbose=1)\n",
    "\n",
    "# ======== PREDIÇÃO ========\n",
    "y_pred = model.predict(X, verbose=0)\n",
    "\n",
    "# ======== MÉTRICAS ========\n",
    "metrics = []\n",
    "names = ['Close', 'High', 'Low', 'Open']\n",
    "for i, name in enumerate(names):\n",
    "    true = y[:, i]\n",
    "    pred = y_pred[:, i]\n",
    "    mae = mean_absolute_error(true, pred)\n",
    "    rmse = np.sqrt(mean_squared_error(true, pred))\n",
    "    mape = np.mean(np.abs((true - pred) / true)) * 100\n",
    "    r2 = r2_score(true, pred)\n",
    "    metrics.append([int(mae * 10000) / 10000, int(rmse * 10000) / 10000, round(mape, 2), round(r2, 4)])\n",
    "\n",
    "df_metrics = pd.DataFrame(metrics, columns=['MAE', 'RMSE', 'MAPE (%)', 'R²'], index=names)\n",
    "\n",
    "print(\"\\n📊 Métricas de desempenho (todas as amostras):\\n\")\n",
    "print(df_metrics)\n",
    "\n",
    "# ======== GRÁFICO DE LOSS ========\n",
    "plt.figure(figsize=(8, 4))\n",
    "plt.plot(history.history['loss'], marker='o')\n",
    "plt.title('Curva de Aprendizado - Loss')\n",
    "plt.xlabel('Épocas')\n",
    "plt.ylabel('Loss (MSE)')\n",
    "plt.grid(True)\n",
    "plt.tight_layout()\n",
    "plt.show()\n"
   ]
  },
  {
   "cell_type": "code",
   "execution_count": 5,
   "id": "c4e21a6e-e7dd-4062-af6d-ec057bf69497",
   "metadata": {},
   "outputs": [
    {
     "ename": "NameError",
     "evalue": "name 'y_test' is not defined",
     "output_type": "error",
     "traceback": [
      "\u001b[31m---------------------------------------------------------------------------\u001b[39m",
      "\u001b[31mNameError\u001b[39m                                 Traceback (most recent call last)",
      "\u001b[36mCell\u001b[39m\u001b[36m \u001b[39m\u001b[32mIn[5]\u001b[39m\u001b[32m, line 4\u001b[39m\n\u001b[32m      1\u001b[39m \u001b[38;5;28;01mimport\u001b[39;00m\u001b[38;5;250m \u001b[39m\u001b[34;01mmatplotlib\u001b[39;00m\u001b[34;01m.\u001b[39;00m\u001b[34;01mpyplot\u001b[39;00m\u001b[38;5;250m \u001b[39m\u001b[38;5;28;01mas\u001b[39;00m\u001b[38;5;250m \u001b[39m\u001b[34;01mplt\u001b[39;00m\n\u001b[32m      3\u001b[39m \u001b[38;5;66;03m# Separa os valores reais e preditos da variável Close (índice 0)\u001b[39;00m\n\u001b[32m----> \u001b[39m\u001b[32m4\u001b[39m true_close = y_test[:, \u001b[32m0\u001b[39m]\n\u001b[32m      5\u001b[39m pred_close = y_pred[:, \u001b[32m0\u001b[39m]\n\u001b[32m      7\u001b[39m \u001b[38;5;66;03m# Gráfico\u001b[39;00m\n",
      "\u001b[31mNameError\u001b[39m: name 'y_test' is not defined"
     ]
    }
   ],
   "source": [
    "import matplotlib.pyplot as plt\n",
    "\n",
    "# Separa os valores reais e preditos da variável Close (índice 0)\n",
    "true_close = y_test[:, 0]\n",
    "pred_close = y_pred[:, 0]\n",
    "\n",
    "# Gráfico\n",
    "plt.figure(figsize=(12, 6))\n",
    "plt.plot(true_close, label='Real - Close', color='blue')\n",
    "plt.plot(pred_close, label='Predito - Close', color='orange', alpha=0.7)\n",
    "plt.title('Preço de Fechamento: Real vs Predito')\n",
    "plt.xlabel('Amostras')\n",
    "plt.ylabel('Valor Escalado (StandardScaler)')\n",
    "plt.legend()\n",
    "plt.grid(True)\n",
    "plt.tight_layout()\n",
    "plt.show()\n"
   ]
  },
  {
   "cell_type": "code",
   "execution_count": null,
   "id": "00315d75-a2cb-40b1-a3e5-a8e78bd0805c",
   "metadata": {},
   "outputs": [],
   "source": []
  }
 ],
 "metadata": {
  "kernelspec": {
   "display_name": "Python 3 (ipykernel)",
   "language": "python",
   "name": "python3"
  },
  "language_info": {
   "codemirror_mode": {
    "name": "ipython",
    "version": 3
   },
   "file_extension": ".py",
   "mimetype": "text/x-python",
   "name": "python",
   "nbconvert_exporter": "python",
   "pygments_lexer": "ipython3",
   "version": "3.11.11"
  }
 },
 "nbformat": 4,
 "nbformat_minor": 5
}
